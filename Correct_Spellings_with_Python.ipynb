{
  "nbformat": 4,
  "nbformat_minor": 0,
  "metadata": {
    "colab": {
      "name": "Correct Spellings with Python.ipynb",
      "provenance": [],
      "collapsed_sections": [],
      "authorship_tag": "ABX9TyNWordIEKGqACpYY9RHym0r",
      "include_colab_link": true
    },
    "kernelspec": {
      "name": "python3",
      "display_name": "Python 3"
    }
  },
  "cells": [
    {
      "cell_type": "markdown",
      "metadata": {
        "id": "view-in-github",
        "colab_type": "text"
      },
      "source": [
        "<a href=\"https://colab.research.google.com/github/Kiran-01/Data-Science-Stuff-Self-Learning/blob/master/Correct_Spellings_with_Python.ipynb\" target=\"_parent\"><img src=\"https://colab.research.google.com/assets/colab-badge.svg\" alt=\"Open In Colab\"/></a>"
      ]
    },
    {
      "cell_type": "code",
      "metadata": {
        "id": "JPyNpgELNekN",
        "colab": {
          "base_uri": "https://localhost:8080/"
        },
        "outputId": "7b0aefe0-4af0-4070-c4ae-60b3d74fecb0"
      },
      "source": [
        "from textblob import TextBlob\r\n",
        "words = []\r\n",
        "word = input('Eter the word :')\r\n",
        "\r\n",
        "words.append(word)\r\n",
        "\r\n",
        "corrected_words = []\r\n",
        "for i in words:\r\n",
        "    corrected_words.append(TextBlob(i))\r\n",
        "print(\"Wrong words :\", words)\r\n",
        "print(\"Corrected Words are :\")\r\n",
        "for i in corrected_words:\r\n",
        "    print(i.correct(), end=\" \")"
      ],
      "execution_count": 14,
      "outputs": [
        {
          "output_type": "stream",
          "text": [
            "Eter the word :curios\n",
            "Wrong words : ['curios']\n",
            "Corrected Words are :\n",
            "curious "
          ],
          "name": "stdout"
        }
      ]
    },
    {
      "cell_type": "code",
      "metadata": {
        "id": "hkCMjD0huxO2"
      },
      "source": [
        ""
      ],
      "execution_count": null,
      "outputs": []
    }
  ]
}