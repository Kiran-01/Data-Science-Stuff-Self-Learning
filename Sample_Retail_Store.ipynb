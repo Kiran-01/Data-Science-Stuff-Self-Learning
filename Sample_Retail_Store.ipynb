{
  "nbformat": 4,
  "nbformat_minor": 0,
  "metadata": {
    "kernelspec": {
      "display_name": "Python 3",
      "language": "python",
      "name": "python3"
    },
    "language_info": {
      "codemirror_mode": {
        "name": "ipython",
        "version": 3
      },
      "file_extension": ".py",
      "mimetype": "text/x-python",
      "name": "python",
      "nbconvert_exporter": "python",
      "pygments_lexer": "ipython3",
      "version": "3.7.9"
    },
    "colab": {
      "name": "Sample_Retail_Store.ipynb",
      "provenance": [],
      "include_colab_link": true
    }
  },
  "cells": [
    {
      "cell_type": "markdown",
      "metadata": {
        "id": "view-in-github",
        "colab_type": "text"
      },
      "source": [
        "<a href=\"https://colab.research.google.com/github/Kiran-01/Projects/blob/master/Sample_Retail_Store.ipynb\" target=\"_parent\"><img src=\"https://colab.research.google.com/assets/colab-badge.svg\" alt=\"Open In Colab\"/></a>"
      ]
    },
    {
      "cell_type": "code",
      "metadata": {
        "id": "32zCtrYkaZsk"
      },
      "source": [
        "# Importing Libraries\n",
        "import numpy as np\n",
        "import pandas as pd\n",
        "import seaborn as sns\n",
        "import matplotlib.pyplot as plt"
      ],
      "execution_count": null,
      "outputs": []
    },
    {
      "cell_type": "code",
      "metadata": {
        "id": "aEUmja88aZsm"
      },
      "source": [
        "# Reading the Dataset\n",
        "df = pd.read_csv('RetailDatalog.csv')"
      ],
      "execution_count": null,
      "outputs": []
    },
    {
      "cell_type": "code",
      "metadata": {
        "id": "Ty70zLqqaZsn",
        "outputId": "afdacb23-8603-4926-8636-ce55f7a804e6"
      },
      "source": [
        "df.head()"
      ],
      "execution_count": null,
      "outputs": [
        {
          "output_type": "execute_result",
          "data": {
            "text/html": [
              "<div>\n",
              "<style scoped>\n",
              "    .dataframe tbody tr th:only-of-type {\n",
              "        vertical-align: middle;\n",
              "    }\n",
              "\n",
              "    .dataframe tbody tr th {\n",
              "        vertical-align: top;\n",
              "    }\n",
              "\n",
              "    .dataframe thead th {\n",
              "        text-align: right;\n",
              "    }\n",
              "</style>\n",
              "<table border=\"1\" class=\"dataframe\">\n",
              "  <thead>\n",
              "    <tr style=\"text-align: right;\">\n",
              "      <th></th>\n",
              "      <th>ProductID</th>\n",
              "      <th>ProductWeight</th>\n",
              "      <th>Fat_Content</th>\n",
              "      <th>PackingVisibility</th>\n",
              "      <th>ProductCategory</th>\n",
              "      <th>MRP</th>\n",
              "      <th>Outlet-ID</th>\n",
              "      <th>Outlet_started_Year</th>\n",
              "      <th>Outlet_Size</th>\n",
              "      <th>Outlet_Location_Type</th>\n",
              "      <th>Outlet_Type</th>\n",
              "      <th>Item_Outlet_Sales</th>\n",
              "    </tr>\n",
              "  </thead>\n",
              "  <tbody>\n",
              "    <tr>\n",
              "      <th>0</th>\n",
              "      <td>FDA15</td>\n",
              "      <td>9.30</td>\n",
              "      <td>Low Fat</td>\n",
              "      <td>0.016047</td>\n",
              "      <td>*Dairy#</td>\n",
              "      <td>249.8092</td>\n",
              "      <td>OUT049..</td>\n",
              "      <td>1999</td>\n",
              "      <td>Medium</td>\n",
              "      <td>Tier 1</td>\n",
              "      <td>Supermarket? Type1!</td>\n",
              "      <td>3735.1380</td>\n",
              "    </tr>\n",
              "    <tr>\n",
              "      <th>1</th>\n",
              "      <td>DRC01</td>\n",
              "      <td>5.92</td>\n",
              "      <td>Regular</td>\n",
              "      <td>0.019278</td>\n",
              "      <td>Soft Drinks##</td>\n",
              "      <td>48.2692</td>\n",
              "      <td>OUT018</td>\n",
              "      <td>2009</td>\n",
              "      <td>Medium</td>\n",
              "      <td>Tier 3</td>\n",
              "      <td>Supermarket? Type2</td>\n",
              "      <td>443.4228</td>\n",
              "    </tr>\n",
              "    <tr>\n",
              "      <th>2</th>\n",
              "      <td>FDN15</td>\n",
              "      <td>17.50</td>\n",
              "      <td>Low Fat</td>\n",
              "      <td>0.016760</td>\n",
              "      <td>Meat</td>\n",
              "      <td>141.6180</td>\n",
              "      <td>OUT049..</td>\n",
              "      <td>1999</td>\n",
              "      <td>Medium</td>\n",
              "      <td>Tier 1</td>\n",
              "      <td>Supermarket? Type1!</td>\n",
              "      <td>2097.2700</td>\n",
              "    </tr>\n",
              "    <tr>\n",
              "      <th>3</th>\n",
              "      <td>FDX07</td>\n",
              "      <td>19.20</td>\n",
              "      <td>Regular</td>\n",
              "      <td>0.000000</td>\n",
              "      <td>Fruits and Vegetables</td>\n",
              "      <td>182.0950</td>\n",
              "      <td>OUT010</td>\n",
              "      <td>1998</td>\n",
              "      <td>NaN</td>\n",
              "      <td>Tier 3</td>\n",
              "      <td>#Grocery Store#</td>\n",
              "      <td>732.3800</td>\n",
              "    </tr>\n",
              "    <tr>\n",
              "      <th>4</th>\n",
              "      <td>NCD19</td>\n",
              "      <td>8.93</td>\n",
              "      <td>Low Fat</td>\n",
              "      <td>0.000000</td>\n",
              "      <td>Household</td>\n",
              "      <td>53.8614</td>\n",
              "      <td>OUT013</td>\n",
              "      <td>1987</td>\n",
              "      <td>High</td>\n",
              "      <td>Tier 3</td>\n",
              "      <td>Supermarket? Type1!</td>\n",
              "      <td>994.7052</td>\n",
              "    </tr>\n",
              "  </tbody>\n",
              "</table>\n",
              "</div>"
            ],
            "text/plain": [
              "  ProductID  ProductWeight Fat_Content  PackingVisibility  \\\n",
              "0     FDA15           9.30     Low Fat           0.016047   \n",
              "1     DRC01           5.92     Regular           0.019278   \n",
              "2     FDN15          17.50     Low Fat           0.016760   \n",
              "3     FDX07          19.20     Regular           0.000000   \n",
              "4     NCD19           8.93     Low Fat           0.000000   \n",
              "\n",
              "         ProductCategory       MRP Outlet-ID  Outlet_started_Year Outlet_Size  \\\n",
              "0                *Dairy#  249.8092  OUT049..                 1999      Medium   \n",
              "1          Soft Drinks##   48.2692    OUT018                 2009      Medium   \n",
              "2                   Meat  141.6180  OUT049..                 1999      Medium   \n",
              "3  Fruits and Vegetables  182.0950    OUT010                 1998         NaN   \n",
              "4              Household   53.8614    OUT013                 1987        High   \n",
              "\n",
              "  Outlet_Location_Type          Outlet_Type  Item_Outlet_Sales  \n",
              "0               Tier 1  Supermarket? Type1!          3735.1380  \n",
              "1               Tier 3   Supermarket? Type2           443.4228  \n",
              "2               Tier 1  Supermarket? Type1!          2097.2700  \n",
              "3               Tier 3      #Grocery Store#           732.3800  \n",
              "4               Tier 3  Supermarket? Type1!           994.7052  "
            ]
          },
          "metadata": {
            "tags": []
          },
          "execution_count": 4
        }
      ]
    },
    {
      "cell_type": "code",
      "metadata": {
        "id": "7U1fomCuaZsn",
        "outputId": "672192ca-0406-4f0a-d6c9-fda74ba35fe0"
      },
      "source": [
        "# Checking for the null values in dataset\n",
        "df.isnull().sum()"
      ],
      "execution_count": null,
      "outputs": [
        {
          "output_type": "execute_result",
          "data": {
            "text/plain": [
              "ProductID                  0\n",
              "ProductWeight           1463\n",
              "Fat_Content                0\n",
              "PackingVisibility          0\n",
              "ProductCategory            0\n",
              "MRP                        0\n",
              "Outlet-ID                  0\n",
              "Outlet_started_Year        0\n",
              "Outlet_Size             2410\n",
              "Outlet_Location_Type       0\n",
              "Outlet_Type                0\n",
              "Item_Outlet_Sales          0\n",
              "dtype: int64"
            ]
          },
          "metadata": {
            "tags": []
          },
          "execution_count": 5
        }
      ]
    },
    {
      "cell_type": "code",
      "metadata": {
        "id": "8YIJULWaaZso"
      },
      "source": [
        ""
      ],
      "execution_count": null,
      "outputs": []
    },
    {
      "cell_type": "code",
      "metadata": {
        "id": "EqE3wEMuaZso"
      },
      "source": [
        "#Filling Null values \n",
        "df.ProductWeight.fillna(df.ProductWeight.mean, inplace=True)"
      ],
      "execution_count": null,
      "outputs": []
    },
    {
      "cell_type": "code",
      "metadata": {
        "id": "npNrGT4ZaZsp",
        "outputId": "62e888e4-9113-41bb-c7eb-061989c19db2"
      },
      "source": [
        "df.ProductWeight.isnull().sum()"
      ],
      "execution_count": null,
      "outputs": [
        {
          "output_type": "execute_result",
          "data": {
            "text/plain": [
              "0"
            ]
          },
          "metadata": {
            "tags": []
          },
          "execution_count": 7
        }
      ]
    },
    {
      "cell_type": "code",
      "metadata": {
        "id": "uBeyTt0_aZsp",
        "outputId": "2bedb674-0564-4b05-8048-1ccc9d1f82c3"
      },
      "source": [
        "df.ProductCategory.nunique()"
      ],
      "execution_count": null,
      "outputs": [
        {
          "output_type": "execute_result",
          "data": {
            "text/plain": [
              "16"
            ]
          },
          "metadata": {
            "tags": []
          },
          "execution_count": 8
        }
      ]
    },
    {
      "cell_type": "code",
      "metadata": {
        "id": "_e5iFCF5aZsq"
      },
      "source": [
        ""
      ],
      "execution_count": null,
      "outputs": []
    },
    {
      "cell_type": "code",
      "metadata": {
        "id": "_F_SSaF7aZsq"
      },
      "source": [
        "df.Outlet_Size.fillna('NA', inplace = True)"
      ],
      "execution_count": null,
      "outputs": []
    },
    {
      "cell_type": "code",
      "metadata": {
        "id": "u83yrQaraZsq",
        "outputId": "cf354a66-a427-4dea-aab3-be9647361856"
      },
      "source": [
        "#Checking for the null values\n",
        "df.isnull().sum()"
      ],
      "execution_count": null,
      "outputs": [
        {
          "output_type": "execute_result",
          "data": {
            "text/plain": [
              "ProductID               0\n",
              "ProductWeight           0\n",
              "Fat_Content             0\n",
              "PackingVisibility       0\n",
              "ProductCategory         0\n",
              "MRP                     0\n",
              "Outlet-ID               0\n",
              "Outlet_started_Year     0\n",
              "Outlet_Size             0\n",
              "Outlet_Location_Type    0\n",
              "Outlet_Type             0\n",
              "Item_Outlet_Sales       0\n",
              "dtype: int64"
            ]
          },
          "metadata": {
            "tags": []
          },
          "execution_count": 10
        }
      ]
    },
    {
      "cell_type": "code",
      "metadata": {
        "id": "2ETpF0kmaZsr",
        "outputId": "9b02e563-b246-444f-f25a-405880a1a9d3"
      },
      "source": [
        "df.info()"
      ],
      "execution_count": null,
      "outputs": [
        {
          "output_type": "stream",
          "text": [
            "<class 'pandas.core.frame.DataFrame'>\n",
            "RangeIndex: 8523 entries, 0 to 8522\n",
            "Data columns (total 12 columns):\n",
            " #   Column                Non-Null Count  Dtype  \n",
            "---  ------                --------------  -----  \n",
            " 0   ProductID             8523 non-null   object \n",
            " 1   ProductWeight         8523 non-null   object \n",
            " 2   Fat_Content           8523 non-null   object \n",
            " 3   PackingVisibility     8523 non-null   float64\n",
            " 4   ProductCategory       8523 non-null   object \n",
            " 5   MRP                   8523 non-null   float64\n",
            " 6   Outlet-ID             8523 non-null   object \n",
            " 7   Outlet_started_Year   8523 non-null   int64  \n",
            " 8   Outlet_Size           8523 non-null   object \n",
            " 9   Outlet_Location_Type  8523 non-null   object \n",
            " 10  Outlet_Type           8523 non-null   object \n",
            " 11  Item_Outlet_Sales     8523 non-null   float64\n",
            "dtypes: float64(3), int64(1), object(8)\n",
            "memory usage: 532.8+ KB\n"
          ],
          "name": "stdout"
        }
      ]
    },
    {
      "cell_type": "code",
      "metadata": {
        "id": "hIR60du4aZsr",
        "outputId": "fd91e19b-8ed1-4b3f-8aca-8453a77f35c6"
      },
      "source": [
        "#Converting categorical data into numerical data\n",
        "\n",
        "from sklearn.preprocessing import LabelEncoder\n",
        "enc = LabelEncoder()\n",
        "df.Fat_Content = enc.fit_transform(df.Fat_Content)\n",
        "df.ProductCategory = enc.fit_transform(df.ProductCategory)\n",
        "df.Outlet_Size = enc.fit_transform(df.Outlet_Size)\n",
        "df.Outlet_Location_Type = enc.fit_transform(df.Outlet_Location_Type)\n",
        "df.Outlet_Type = enc.fit_transform(df.Outlet_Type)\n",
        "df.head()"
      ],
      "execution_count": null,
      "outputs": [
        {
          "output_type": "execute_result",
          "data": {
            "text/html": [
              "<div>\n",
              "<style scoped>\n",
              "    .dataframe tbody tr th:only-of-type {\n",
              "        vertical-align: middle;\n",
              "    }\n",
              "\n",
              "    .dataframe tbody tr th {\n",
              "        vertical-align: top;\n",
              "    }\n",
              "\n",
              "    .dataframe thead th {\n",
              "        text-align: right;\n",
              "    }\n",
              "</style>\n",
              "<table border=\"1\" class=\"dataframe\">\n",
              "  <thead>\n",
              "    <tr style=\"text-align: right;\">\n",
              "      <th></th>\n",
              "      <th>ProductID</th>\n",
              "      <th>ProductWeight</th>\n",
              "      <th>Fat_Content</th>\n",
              "      <th>PackingVisibility</th>\n",
              "      <th>ProductCategory</th>\n",
              "      <th>MRP</th>\n",
              "      <th>Outlet-ID</th>\n",
              "      <th>Outlet_started_Year</th>\n",
              "      <th>Outlet_Size</th>\n",
              "      <th>Outlet_Location_Type</th>\n",
              "      <th>Outlet_Type</th>\n",
              "      <th>Item_Outlet_Sales</th>\n",
              "    </tr>\n",
              "  </thead>\n",
              "  <tbody>\n",
              "    <tr>\n",
              "      <th>0</th>\n",
              "      <td>FDA15</td>\n",
              "      <td>9.3</td>\n",
              "      <td>1</td>\n",
              "      <td>0.016047</td>\n",
              "      <td>0</td>\n",
              "      <td>249.8092</td>\n",
              "      <td>OUT049..</td>\n",
              "      <td>1999</td>\n",
              "      <td>1</td>\n",
              "      <td>0</td>\n",
              "      <td>1</td>\n",
              "      <td>3735.1380</td>\n",
              "    </tr>\n",
              "    <tr>\n",
              "      <th>1</th>\n",
              "      <td>DRC01</td>\n",
              "      <td>5.92</td>\n",
              "      <td>2</td>\n",
              "      <td>0.019278</td>\n",
              "      <td>14</td>\n",
              "      <td>48.2692</td>\n",
              "      <td>OUT018</td>\n",
              "      <td>2009</td>\n",
              "      <td>1</td>\n",
              "      <td>2</td>\n",
              "      <td>2</td>\n",
              "      <td>443.4228</td>\n",
              "    </tr>\n",
              "    <tr>\n",
              "      <th>2</th>\n",
              "      <td>FDN15</td>\n",
              "      <td>17.5</td>\n",
              "      <td>1</td>\n",
              "      <td>0.016760</td>\n",
              "      <td>10</td>\n",
              "      <td>141.6180</td>\n",
              "      <td>OUT049..</td>\n",
              "      <td>1999</td>\n",
              "      <td>1</td>\n",
              "      <td>0</td>\n",
              "      <td>1</td>\n",
              "      <td>2097.2700</td>\n",
              "    </tr>\n",
              "    <tr>\n",
              "      <th>3</th>\n",
              "      <td>FDX07</td>\n",
              "      <td>19.2</td>\n",
              "      <td>2</td>\n",
              "      <td>0.000000</td>\n",
              "      <td>6</td>\n",
              "      <td>182.0950</td>\n",
              "      <td>OUT010</td>\n",
              "      <td>1998</td>\n",
              "      <td>2</td>\n",
              "      <td>2</td>\n",
              "      <td>0</td>\n",
              "      <td>732.3800</td>\n",
              "    </tr>\n",
              "    <tr>\n",
              "      <th>4</th>\n",
              "      <td>NCD19</td>\n",
              "      <td>8.93</td>\n",
              "      <td>1</td>\n",
              "      <td>0.000000</td>\n",
              "      <td>9</td>\n",
              "      <td>53.8614</td>\n",
              "      <td>OUT013</td>\n",
              "      <td>1987</td>\n",
              "      <td>0</td>\n",
              "      <td>2</td>\n",
              "      <td>1</td>\n",
              "      <td>994.7052</td>\n",
              "    </tr>\n",
              "  </tbody>\n",
              "</table>\n",
              "</div>"
            ],
            "text/plain": [
              "  ProductID ProductWeight  Fat_Content  PackingVisibility  ProductCategory  \\\n",
              "0     FDA15           9.3            1           0.016047                0   \n",
              "1     DRC01          5.92            2           0.019278               14   \n",
              "2     FDN15          17.5            1           0.016760               10   \n",
              "3     FDX07          19.2            2           0.000000                6   \n",
              "4     NCD19          8.93            1           0.000000                9   \n",
              "\n",
              "        MRP Outlet-ID  Outlet_started_Year  Outlet_Size  Outlet_Location_Type  \\\n",
              "0  249.8092  OUT049..                 1999            1                     0   \n",
              "1   48.2692    OUT018                 2009            1                     2   \n",
              "2  141.6180  OUT049..                 1999            1                     0   \n",
              "3  182.0950    OUT010                 1998            2                     2   \n",
              "4   53.8614    OUT013                 1987            0                     2   \n",
              "\n",
              "   Outlet_Type  Item_Outlet_Sales  \n",
              "0            1          3735.1380  \n",
              "1            2           443.4228  \n",
              "2            1          2097.2700  \n",
              "3            0           732.3800  \n",
              "4            1           994.7052  "
            ]
          },
          "metadata": {
            "tags": []
          },
          "execution_count": 12
        }
      ]
    },
    {
      "cell_type": "code",
      "metadata": {
        "id": "3fEoIfzxaZss"
      },
      "source": [
        ""
      ],
      "execution_count": null,
      "outputs": []
    },
    {
      "cell_type": "code",
      "metadata": {
        "id": "UGRv20JdaZss"
      },
      "source": [
        "#Dropping Unnecessary columns\n",
        "df.drop(['ProductID','Outlet-ID'], axis = 1, inplace = True)"
      ],
      "execution_count": null,
      "outputs": []
    },
    {
      "cell_type": "code",
      "metadata": {
        "id": "hl2iYxKxaZst"
      },
      "source": [
        ""
      ],
      "execution_count": null,
      "outputs": []
    },
    {
      "cell_type": "code",
      "metadata": {
        "id": "DUm8QYX5aZst",
        "outputId": "860b55c9-f4a8-4d4e-8f47-21e1d50fb454"
      },
      "source": [
        "#Checking Unique values in Fat_Content column\n",
        "df.Fat_Content.unique()"
      ],
      "execution_count": null,
      "outputs": [
        {
          "output_type": "execute_result",
          "data": {
            "text/plain": [
              "array([1, 2, 3, 0, 4])"
            ]
          },
          "metadata": {
            "tags": []
          },
          "execution_count": 14
        }
      ]
    },
    {
      "cell_type": "code",
      "metadata": {
        "id": "bEKbHgH1aZsu"
      },
      "source": [
        "# Data Mapping"
      ],
      "execution_count": null,
      "outputs": []
    },
    {
      "cell_type": "code",
      "metadata": {
        "id": "7J77A9LZaZsu"
      },
      "source": [
        "X = df.drop(['Item_Outlet_Sales','ProductWeight','Outlet_started_Year'], axis = 1)"
      ],
      "execution_count": null,
      "outputs": []
    },
    {
      "cell_type": "code",
      "metadata": {
        "id": "tdp7b1lgaZsu"
      },
      "source": [
        "y = df['Item_Outlet_Sales']"
      ],
      "execution_count": null,
      "outputs": []
    },
    {
      "cell_type": "code",
      "metadata": {
        "id": "NDcvALOZaZsv",
        "outputId": "eb1a07b4-1b3a-4f6c-919a-4c12fb3c5eb3"
      },
      "source": [
        "X"
      ],
      "execution_count": null,
      "outputs": [
        {
          "output_type": "execute_result",
          "data": {
            "text/html": [
              "<div>\n",
              "<style scoped>\n",
              "    .dataframe tbody tr th:only-of-type {\n",
              "        vertical-align: middle;\n",
              "    }\n",
              "\n",
              "    .dataframe tbody tr th {\n",
              "        vertical-align: top;\n",
              "    }\n",
              "\n",
              "    .dataframe thead th {\n",
              "        text-align: right;\n",
              "    }\n",
              "</style>\n",
              "<table border=\"1\" class=\"dataframe\">\n",
              "  <thead>\n",
              "    <tr style=\"text-align: right;\">\n",
              "      <th></th>\n",
              "      <th>Fat_Content</th>\n",
              "      <th>PackingVisibility</th>\n",
              "      <th>ProductCategory</th>\n",
              "      <th>MRP</th>\n",
              "      <th>Outlet_Size</th>\n",
              "      <th>Outlet_Location_Type</th>\n",
              "      <th>Outlet_Type</th>\n",
              "    </tr>\n",
              "  </thead>\n",
              "  <tbody>\n",
              "    <tr>\n",
              "      <th>0</th>\n",
              "      <td>1</td>\n",
              "      <td>0.016047</td>\n",
              "      <td>0</td>\n",
              "      <td>249.8092</td>\n",
              "      <td>1</td>\n",
              "      <td>0</td>\n",
              "      <td>1</td>\n",
              "    </tr>\n",
              "    <tr>\n",
              "      <th>1</th>\n",
              "      <td>2</td>\n",
              "      <td>0.019278</td>\n",
              "      <td>14</td>\n",
              "      <td>48.2692</td>\n",
              "      <td>1</td>\n",
              "      <td>2</td>\n",
              "      <td>2</td>\n",
              "    </tr>\n",
              "    <tr>\n",
              "      <th>2</th>\n",
              "      <td>1</td>\n",
              "      <td>0.016760</td>\n",
              "      <td>10</td>\n",
              "      <td>141.6180</td>\n",
              "      <td>1</td>\n",
              "      <td>0</td>\n",
              "      <td>1</td>\n",
              "    </tr>\n",
              "    <tr>\n",
              "      <th>3</th>\n",
              "      <td>2</td>\n",
              "      <td>0.000000</td>\n",
              "      <td>6</td>\n",
              "      <td>182.0950</td>\n",
              "      <td>2</td>\n",
              "      <td>2</td>\n",
              "      <td>0</td>\n",
              "    </tr>\n",
              "    <tr>\n",
              "      <th>4</th>\n",
              "      <td>1</td>\n",
              "      <td>0.000000</td>\n",
              "      <td>9</td>\n",
              "      <td>53.8614</td>\n",
              "      <td>0</td>\n",
              "      <td>2</td>\n",
              "      <td>1</td>\n",
              "    </tr>\n",
              "    <tr>\n",
              "      <th>...</th>\n",
              "      <td>...</td>\n",
              "      <td>...</td>\n",
              "      <td>...</td>\n",
              "      <td>...</td>\n",
              "      <td>...</td>\n",
              "      <td>...</td>\n",
              "      <td>...</td>\n",
              "    </tr>\n",
              "    <tr>\n",
              "      <th>8518</th>\n",
              "      <td>1</td>\n",
              "      <td>0.056783</td>\n",
              "      <td>13</td>\n",
              "      <td>214.5218</td>\n",
              "      <td>0</td>\n",
              "      <td>2</td>\n",
              "      <td>1</td>\n",
              "    </tr>\n",
              "    <tr>\n",
              "      <th>8519</th>\n",
              "      <td>2</td>\n",
              "      <td>0.046982</td>\n",
              "      <td>1</td>\n",
              "      <td>108.1570</td>\n",
              "      <td>2</td>\n",
              "      <td>1</td>\n",
              "      <td>1</td>\n",
              "    </tr>\n",
              "    <tr>\n",
              "      <th>8520</th>\n",
              "      <td>1</td>\n",
              "      <td>0.035186</td>\n",
              "      <td>8</td>\n",
              "      <td>85.1224</td>\n",
              "      <td>3</td>\n",
              "      <td>1</td>\n",
              "      <td>1</td>\n",
              "    </tr>\n",
              "    <tr>\n",
              "      <th>8521</th>\n",
              "      <td>2</td>\n",
              "      <td>0.145221</td>\n",
              "      <td>13</td>\n",
              "      <td>103.1332</td>\n",
              "      <td>1</td>\n",
              "      <td>2</td>\n",
              "      <td>2</td>\n",
              "    </tr>\n",
              "    <tr>\n",
              "      <th>8522</th>\n",
              "      <td>1</td>\n",
              "      <td>0.044878</td>\n",
              "      <td>14</td>\n",
              "      <td>75.4670</td>\n",
              "      <td>3</td>\n",
              "      <td>0</td>\n",
              "      <td>1</td>\n",
              "    </tr>\n",
              "  </tbody>\n",
              "</table>\n",
              "<p>8523 rows × 7 columns</p>\n",
              "</div>"
            ],
            "text/plain": [
              "      Fat_Content  PackingVisibility  ProductCategory       MRP  Outlet_Size  \\\n",
              "0               1           0.016047                0  249.8092            1   \n",
              "1               2           0.019278               14   48.2692            1   \n",
              "2               1           0.016760               10  141.6180            1   \n",
              "3               2           0.000000                6  182.0950            2   \n",
              "4               1           0.000000                9   53.8614            0   \n",
              "...           ...                ...              ...       ...          ...   \n",
              "8518            1           0.056783               13  214.5218            0   \n",
              "8519            2           0.046982                1  108.1570            2   \n",
              "8520            1           0.035186                8   85.1224            3   \n",
              "8521            2           0.145221               13  103.1332            1   \n",
              "8522            1           0.044878               14   75.4670            3   \n",
              "\n",
              "      Outlet_Location_Type  Outlet_Type  \n",
              "0                        0            1  \n",
              "1                        2            2  \n",
              "2                        0            1  \n",
              "3                        2            0  \n",
              "4                        2            1  \n",
              "...                    ...          ...  \n",
              "8518                     2            1  \n",
              "8519                     1            1  \n",
              "8520                     1            1  \n",
              "8521                     2            2  \n",
              "8522                     0            1  \n",
              "\n",
              "[8523 rows x 7 columns]"
            ]
          },
          "metadata": {
            "tags": []
          },
          "execution_count": 18
        }
      ]
    },
    {
      "cell_type": "code",
      "metadata": {
        "id": "ZXu35AJqaZsv",
        "outputId": "8b9b5de7-a4ea-4549-f782-35bb0eb6fc85"
      },
      "source": [
        "df.info()"
      ],
      "execution_count": null,
      "outputs": [
        {
          "output_type": "stream",
          "text": [
            "<class 'pandas.core.frame.DataFrame'>\n",
            "RangeIndex: 8523 entries, 0 to 8522\n",
            "Data columns (total 10 columns):\n",
            " #   Column                Non-Null Count  Dtype  \n",
            "---  ------                --------------  -----  \n",
            " 0   ProductWeight         8523 non-null   object \n",
            " 1   Fat_Content           8523 non-null   int32  \n",
            " 2   PackingVisibility     8523 non-null   float64\n",
            " 3   ProductCategory       8523 non-null   int32  \n",
            " 4   MRP                   8523 non-null   float64\n",
            " 5   Outlet_started_Year   8523 non-null   int64  \n",
            " 6   Outlet_Size           8523 non-null   int32  \n",
            " 7   Outlet_Location_Type  8523 non-null   int32  \n",
            " 8   Outlet_Type           8523 non-null   int32  \n",
            " 9   Item_Outlet_Sales     8523 non-null   float64\n",
            "dtypes: float64(3), int32(5), int64(1), object(1)\n",
            "memory usage: 466.2+ KB\n"
          ],
          "name": "stdout"
        }
      ]
    },
    {
      "cell_type": "code",
      "metadata": {
        "id": "eK0dC-SIaZsw",
        "outputId": "df883ce3-c67c-4472-a4d4-33d66de33c52"
      },
      "source": [
        "df.MRP.nunique()        "
      ],
      "execution_count": null,
      "outputs": [
        {
          "output_type": "execute_result",
          "data": {
            "text/plain": [
              "5938"
            ]
          },
          "metadata": {
            "tags": []
          },
          "execution_count": 20
        }
      ]
    },
    {
      "cell_type": "code",
      "metadata": {
        "id": "MEpIweT2aZsw",
        "outputId": "2fea78fe-5ff0-4ab3-997b-c392515bbcd8"
      },
      "source": [
        "# normalizing column between zero and one.\n",
        "norm = ['MRP']\n",
        "X[norm]=X[norm].apply(lambda x:(x-x.min())/ (x.max()-x.min()))\n",
        "X.head()"
      ],
      "execution_count": null,
      "outputs": [
        {
          "output_type": "execute_result",
          "data": {
            "text/html": [
              "<div>\n",
              "<style scoped>\n",
              "    .dataframe tbody tr th:only-of-type {\n",
              "        vertical-align: middle;\n",
              "    }\n",
              "\n",
              "    .dataframe tbody tr th {\n",
              "        vertical-align: top;\n",
              "    }\n",
              "\n",
              "    .dataframe thead th {\n",
              "        text-align: right;\n",
              "    }\n",
              "</style>\n",
              "<table border=\"1\" class=\"dataframe\">\n",
              "  <thead>\n",
              "    <tr style=\"text-align: right;\">\n",
              "      <th></th>\n",
              "      <th>Fat_Content</th>\n",
              "      <th>PackingVisibility</th>\n",
              "      <th>ProductCategory</th>\n",
              "      <th>MRP</th>\n",
              "      <th>Outlet_Size</th>\n",
              "      <th>Outlet_Location_Type</th>\n",
              "      <th>Outlet_Type</th>\n",
              "    </tr>\n",
              "  </thead>\n",
              "  <tbody>\n",
              "    <tr>\n",
              "      <th>0</th>\n",
              "      <td>1</td>\n",
              "      <td>0.016047</td>\n",
              "      <td>0</td>\n",
              "      <td>0.927507</td>\n",
              "      <td>1</td>\n",
              "      <td>0</td>\n",
              "      <td>1</td>\n",
              "    </tr>\n",
              "    <tr>\n",
              "      <th>1</th>\n",
              "      <td>2</td>\n",
              "      <td>0.019278</td>\n",
              "      <td>14</td>\n",
              "      <td>0.072068</td>\n",
              "      <td>1</td>\n",
              "      <td>2</td>\n",
              "      <td>2</td>\n",
              "    </tr>\n",
              "    <tr>\n",
              "      <th>2</th>\n",
              "      <td>1</td>\n",
              "      <td>0.016760</td>\n",
              "      <td>10</td>\n",
              "      <td>0.468288</td>\n",
              "      <td>1</td>\n",
              "      <td>0</td>\n",
              "      <td>1</td>\n",
              "    </tr>\n",
              "    <tr>\n",
              "      <th>3</th>\n",
              "      <td>2</td>\n",
              "      <td>0.000000</td>\n",
              "      <td>6</td>\n",
              "      <td>0.640093</td>\n",
              "      <td>2</td>\n",
              "      <td>2</td>\n",
              "      <td>0</td>\n",
              "    </tr>\n",
              "    <tr>\n",
              "      <th>4</th>\n",
              "      <td>1</td>\n",
              "      <td>0.000000</td>\n",
              "      <td>9</td>\n",
              "      <td>0.095805</td>\n",
              "      <td>0</td>\n",
              "      <td>2</td>\n",
              "      <td>1</td>\n",
              "    </tr>\n",
              "  </tbody>\n",
              "</table>\n",
              "</div>"
            ],
            "text/plain": [
              "   Fat_Content  PackingVisibility  ProductCategory       MRP  Outlet_Size  \\\n",
              "0            1           0.016047                0  0.927507            1   \n",
              "1            2           0.019278               14  0.072068            1   \n",
              "2            1           0.016760               10  0.468288            1   \n",
              "3            2           0.000000                6  0.640093            2   \n",
              "4            1           0.000000                9  0.095805            0   \n",
              "\n",
              "   Outlet_Location_Type  Outlet_Type  \n",
              "0                     0            1  \n",
              "1                     2            2  \n",
              "2                     0            1  \n",
              "3                     2            0  \n",
              "4                     2            1  "
            ]
          },
          "metadata": {
            "tags": []
          },
          "execution_count": 21
        }
      ]
    },
    {
      "cell_type": "code",
      "metadata": {
        "id": "IwY8UePraZsx",
        "outputId": "5ee4a301-40d2-43ff-d096-fc74a76200d1"
      },
      "source": [
        "y=(y-y.min())/ (y.max()-y.min())\n",
        "y.head()"
      ],
      "execution_count": null,
      "outputs": [
        {
          "output_type": "execute_result",
          "data": {
            "text/plain": [
              "0    0.283587\n",
              "1    0.031419\n",
              "2    0.158115\n",
              "3    0.053555\n",
              "4    0.073651\n",
              "Name: Item_Outlet_Sales, dtype: float64"
            ]
          },
          "metadata": {
            "tags": []
          },
          "execution_count": 22
        }
      ]
    },
    {
      "cell_type": "code",
      "metadata": {
        "id": "sktFjVEDaZsx"
      },
      "source": [
        ""
      ],
      "execution_count": null,
      "outputs": []
    },
    {
      "cell_type": "code",
      "metadata": {
        "id": "P_n6RoAxaZsx"
      },
      "source": [
        ""
      ],
      "execution_count": null,
      "outputs": []
    },
    {
      "cell_type": "code",
      "metadata": {
        "id": "hges8OBsaZsx"
      },
      "source": [
        "#Train Test Split"
      ],
      "execution_count": null,
      "outputs": []
    },
    {
      "cell_type": "code",
      "metadata": {
        "id": "pr7bvP6haZsy"
      },
      "source": [
        "from sklearn.model_selection import train_test_split\n",
        "X_train, X_test, y_train, y_test = train_test_split(X,y, test_size = 0.2)"
      ],
      "execution_count": null,
      "outputs": []
    },
    {
      "cell_type": "code",
      "metadata": {
        "id": "AHaa5mcjaZsy"
      },
      "source": [
        "# Linear Regression"
      ],
      "execution_count": null,
      "outputs": []
    },
    {
      "cell_type": "code",
      "metadata": {
        "id": "bmZENCxjaZsy"
      },
      "source": [
        "from sklearn.linear_model import LinearRegression\n",
        "lr_model = LinearRegression()\n",
        "lr_model.fit(X_train, y_train)\n",
        "y_pred_lr = lr_model.predict(X_test)"
      ],
      "execution_count": null,
      "outputs": []
    },
    {
      "cell_type": "code",
      "metadata": {
        "id": "9HgsArRfaZsz"
      },
      "source": [
        "from sklearn.metrics import mean_absolute_error  \n",
        "mse= mean_absolute_error(y_test, y_pred_lr) "
      ],
      "execution_count": null,
      "outputs": []
    },
    {
      "cell_type": "code",
      "metadata": {
        "id": "s0p3iNFlaZsz",
        "outputId": "0272a451-06c0-4b3e-e6a5-e1735193bdca"
      },
      "source": [
        "from sklearn.model_selection import cross_val_score\n",
        "accuracy = cross_val_score(lr_model, X_train, y_train, cv=10)\n",
        "print(f\"The accuracy of linear Regression Model is \\t{accuracy.mean()}\")\n",
        "print(f'The Deviation in the accuarcy is \\t{accuracy.std()}')"
      ],
      "execution_count": null,
      "outputs": [
        {
          "output_type": "stream",
          "text": [
            "The accuracy of linear Regression Model is \t0.50187195045129\n",
            "The Deviation in the accuarcy is \t0.023311284194217973\n"
          ],
          "name": "stdout"
        }
      ]
    },
    {
      "cell_type": "code",
      "metadata": {
        "id": "fcHl2T0CaZs0",
        "outputId": "0bac7272-f406-4c6c-c63f-a64fe98e4203"
      },
      "source": [
        "import math\n",
        "print(f\"Mean Squared Error is \\t{mse}\")\n",
        "print(f\"Root Mean Squared Error is \\t{math.sqrt(mse)}\")"
      ],
      "execution_count": null,
      "outputs": [
        {
          "output_type": "stream",
          "text": [
            "Mean Squared Error is \t0.07027113249961935\n",
            "Root Mean Squared Error is \t0.26508702816173285\n"
          ],
          "name": "stdout"
        }
      ]
    },
    {
      "cell_type": "code",
      "metadata": {
        "id": "p2COBr9faZs0"
      },
      "source": [
        ""
      ],
      "execution_count": null,
      "outputs": []
    },
    {
      "cell_type": "code",
      "metadata": {
        "id": "f95teSQDaZs0"
      },
      "source": [
        "#Random Forest"
      ],
      "execution_count": null,
      "outputs": []
    },
    {
      "cell_type": "code",
      "metadata": {
        "id": "sMSuGhnNaZs1",
        "outputId": "c8ac281b-ef42-4840-bb3a-eda2a6f9d72f"
      },
      "source": [
        "from sklearn.ensemble import RandomForestRegressor\n",
        "rf = RandomForestRegressor(n_estimators=  100)\n",
        "rf.fit(X_train, y_train)"
      ],
      "execution_count": null,
      "outputs": [
        {
          "output_type": "execute_result",
          "data": {
            "text/plain": [
              "RandomForestRegressor()"
            ]
          },
          "metadata": {
            "tags": []
          },
          "execution_count": 31
        }
      ]
    },
    {
      "cell_type": "code",
      "metadata": {
        "id": "Tq4d1QmNaZs1"
      },
      "source": [
        "y_pred_rf = rf.predict(X_test)"
      ],
      "execution_count": null,
      "outputs": []
    },
    {
      "cell_type": "code",
      "metadata": {
        "id": "G67Pd3TLaZs1",
        "outputId": "15511c91-cd3f-4c99-a243-779e0fc1def4"
      },
      "source": [
        "from sklearn.model_selection import cross_val_score\n",
        "accuracy = cross_val_score(rf, X_train, y_train, cv=10)\n",
        "print(f\"The accuracy of random Forest Regressor Model is \\t{accuracy.mean()}\")\n",
        "print(f'The Deviation in the accuarcy is \\t{accuracy.std()}')"
      ],
      "execution_count": null,
      "outputs": [
        {
          "output_type": "stream",
          "text": [
            "The accuracy of random Forest Regressor Model is \t0.5439097826935659\n",
            "The Deviation in the accuarcy is \t0.035482537057161555\n"
          ],
          "name": "stdout"
        }
      ]
    },
    {
      "cell_type": "code",
      "metadata": {
        "id": "Qp_PF0HKaZs2",
        "outputId": "03a4d027-dc06-40a6-9abe-0792b69c5bcf"
      },
      "source": [
        "import math\n",
        "mse= mean_absolute_error(y_test, y_pred_rf) \n",
        "print(f\"Mean Squared Error is \\t{mse}\")\n",
        "print(f\"Root Mean Squared Error is \\t{math.sqrt(mse)}\")"
      ],
      "execution_count": null,
      "outputs": [
        {
          "output_type": "stream",
          "text": [
            "Mean Squared Error is \t0.06000709370493144\n",
            "Root Mean Squared Error is \t0.24496345381491386\n"
          ],
          "name": "stdout"
        }
      ]
    },
    {
      "cell_type": "code",
      "metadata": {
        "id": "PVJLX6dtaZs2"
      },
      "source": [
        ""
      ],
      "execution_count": null,
      "outputs": []
    },
    {
      "cell_type": "code",
      "metadata": {
        "id": "UKorZQkmaZs2"
      },
      "source": [
        "#SVR"
      ],
      "execution_count": null,
      "outputs": []
    },
    {
      "cell_type": "code",
      "metadata": {
        "id": "bcKmuCHtaZs3"
      },
      "source": [
        "from sklearn.svm import SVR\n",
        "svr = SVR()\n",
        "svr.fit(X_train, y_train)\n",
        "y_pred_svr = svr.predict(X_test)"
      ],
      "execution_count": null,
      "outputs": []
    },
    {
      "cell_type": "code",
      "metadata": {
        "id": "UwygwFz6aZs3"
      },
      "source": [
        "accuracy = cross_val_score(svr, X_train, y_train, cv=10)"
      ],
      "execution_count": null,
      "outputs": []
    },
    {
      "cell_type": "code",
      "metadata": {
        "id": "gtFcocmeaZs3",
        "outputId": "a9120dea-828c-492d-9960-66c5919d9e67"
      },
      "source": [
        "# accuracy = cross_val_score(y_pred_lr, X_train, y_train, cv=10)\n",
        "print(f\"The accuracy of random Forest Regressor Model is \\t{max(accuracy)}\")\n",
        "print(f'The Deviation in the accuarcy is \\t{(accuracy.std())}')\n",
        "\n"
      ],
      "execution_count": null,
      "outputs": [
        {
          "output_type": "stream",
          "text": [
            "The accuracy of random Forest Regressor Model is \t0.6023080981494175\n",
            "The Deviation in the accuarcy is \t0.024927567672554104\n"
          ],
          "name": "stdout"
        }
      ]
    },
    {
      "cell_type": "code",
      "metadata": {
        "id": "OuvQw0EFaZs4",
        "outputId": "53cdcfa2-72ab-4530-e233-937dec4e25b4"
      },
      "source": [
        "mse= mean_absolute_error(y_test, y_pred_svr) \n",
        "print(f\"Mean Squared Error is \\t{mse}\")\n",
        "print(f\"Root Mean Squared Error is \\t{math.sqrt(mse)}\")"
      ],
      "execution_count": null,
      "outputs": [
        {
          "output_type": "stream",
          "text": [
            "Mean Squared Error is \t0.06555537321977091\n",
            "Root Mean Squared Error is \t0.2560378355239141\n"
          ],
          "name": "stdout"
        }
      ]
    },
    {
      "cell_type": "markdown",
      "metadata": {
        "id": "7zDwfIj8aZs4"
      },
      "source": [
        "## "
      ]
    },
    {
      "cell_type": "markdown",
      "metadata": {
        "id": "AoA3LydXaZs5"
      },
      "source": [
        "# Results"
      ]
    },
    {
      "cell_type": "markdown",
      "metadata": {
        "id": "lcs8UyCxaZs5"
      },
      "source": [
        "### Linear Regression : 50 %\n",
        "### Random Forest Regressor : 54%\n",
        "### SVR : 60%\n",
        "\n"
      ]
    }
  ]
}